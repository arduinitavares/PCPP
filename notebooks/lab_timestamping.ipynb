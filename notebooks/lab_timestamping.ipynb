{
 "cells": [
  {
   "cell_type": "code",
   "execution_count": 1,
   "metadata": {},
   "outputs": [
    {
     "name": "stdout",
     "output_type": "stream",
     "text": [
      "Function execution time:  Sat May 27 09:46:33 2023\n",
      "Result:  9\n"
     ]
    }
   ],
   "source": [
    "# Import the required libraries\n",
    "import time\n",
    "\n",
    "# Define a function that acts as a decorator.\n",
    "# This function is used to measure and print the\n",
    "# time at which the decorated function is executed.\n",
    "def execution_time_decorator(function_to_decorate):\n",
    "    # Inside the decorator function, define a wrapper function\n",
    "    # that takes any number of arguments and keyword arguments.\n",
    "    # This function will call the decorated function and print\n",
    "    # the execution time.\n",
    "    def wrapper_function(*args, **kwargs):\n",
    "        # Get the current time in seconds since the epoch,\n",
    "        # which is a common basis for computer time representation.\n",
    "        current_seconds_since_epoch = time.time()\n",
    "        \n",
    "        # Convert the time in seconds since the epoch to a\n",
    "        # human-readable format and print it.\n",
    "        human_readable_time = time.ctime(current_seconds_since_epoch)\n",
    "        print(\"Function execution time: \", human_readable_time)\n",
    "        \n",
    "        # Call the function being decorated and return its result.\n",
    "        return function_to_decorate(*args, **kwargs)\n",
    "\n",
    "    # Return the wrapper function to complete the decorator.\n",
    "    return wrapper_function\n",
    "\n",
    "# Here we use the decorator defined above to decorate a simple addition function.\n",
    "@execution_time_decorator   \n",
    "def addition_function(a, b):\n",
    "    # This function takes two arguments and returns their sum.\n",
    "    return a + b\n",
    "\n",
    "# Finally, we call the decorated addition function.\n",
    "result = addition_function(4, 5)\n",
    "\n",
    "# The result is printed.\n",
    "print(\"Result: \", result)\n"
   ]
  },
  {
   "attachments": {},
   "cell_type": "markdown",
   "metadata": {},
   "source": [
    "## decorators using classes"
   ]
  },
  {
   "cell_type": "code",
   "execution_count": 2,
   "metadata": {},
   "outputs": [
    {
     "name": "stdout",
     "output_type": "stream",
     "text": [
      "Function \"argument_combiner\" was called with the following arguments:\n",
      "\tPositional arguments: ('a', 'b')\n",
      "\tKeyword arguments: {'exec': 'yes'}\n",
      "\n",
      "\tHello from the decorated function; received arguments:\n",
      "\tPositional arguments: ('a', 'b')\n",
      "\tKeyword arguments: {'exec': 'yes'}\n",
      "\n",
      "Decorator is still operating\n",
      "\n"
     ]
    }
   ],
   "source": [
    "# Define a class that will act as a decorator. This class will print information\n",
    "# about the decorated function when it's called.\n",
    "class FunctionCallInfoDecorator:\n",
    "    # The decorator class takes a single function as an argument during initialization.\n",
    "    def __init__(self, function_to_decorate):\n",
    "        # Store the function to be decorated.\n",
    "        self.function_to_decorate = function_to_decorate\n",
    "\n",
    "    # Define the __call__ method to make the class instances callable. This method\n",
    "    # is called when the decorated function is called.\n",
    "    def __call__(self, *args, **kwargs):\n",
    "        # Print the name of the function and the arguments it was called with.\n",
    "        print(f'Function \"{self.function_to_decorate.__name__}\" was called with the following arguments:')\n",
    "        print(f'\\tPositional arguments: {args}')\n",
    "        print(f'\\tKeyword arguments: {kwargs}\\n')\n",
    "\n",
    "        # Call the decorated function with the given arguments.\n",
    "        self.function_to_decorate(*args, **kwargs)\n",
    "\n",
    "        # Print a message to indicate that the decorator is still operating.\n",
    "        print('Decorator is still operating\\n')\n",
    "\n",
    "\n",
    "# Use the FunctionCallInfoDecorator to decorate a function that combines its arguments.\n",
    "@FunctionCallInfoDecorator\n",
    "def argument_combiner(*args, **kwargs):\n",
    "    # This function simply prints the arguments it receives.\n",
    "    print(\"\\tHello from the decorated function; received arguments:\")\n",
    "    print(f'\\tPositional arguments: {args}')\n",
    "    print(f'\\tKeyword arguments: {kwargs}\\n')\n",
    "\n",
    "\n",
    "# Call the decorated function with some test arguments.\n",
    "argument_combiner('a', 'b', exec='yes')\n"
   ]
  },
  {
   "attachments": {},
   "cell_type": "markdown",
   "metadata": {},
   "source": [
    "## Decorators unsing classes and with arguments"
   ]
  },
  {
   "cell_type": "code",
   "execution_count": 5,
   "metadata": {},
   "outputs": [
    {
     "name": "stdout",
     "output_type": "stream",
     "text": [
      "* Wrapping items from ('pack_books',) with kraft\n",
      "We'll pack books: ('Alice in Wonderland', 'Winnie the Pooh')\n",
      "\n",
      "* Wrapping items from ('pack_toys',) with foil\n",
      "We'll pack toys: ('doll', 'car')\n",
      "\n",
      "* Wrapping items from ('pack_fruits',) with cardboard\n",
      "We'll pack fruits: ('plum', 'pear')\n",
      "\n"
     ]
    }
   ],
   "source": [
    "# Define a class to act as a decorator. This decorator will print out the type of\n",
    "# packing material used for each item type.\n",
    "class PackingMaterialDecorator:\n",
    "    # The decorator takes a packing material as an argument during initialization.\n",
    "    def __init__(self, packing_material):\n",
    "        # Store the packing material.\n",
    "        self.packing_material = packing_material\n",
    "\n",
    "    # Define the __call__ method to make the class instances callable. This method\n",
    "    # is called when the decorated function is called.\n",
    "    def __call__(self, function_to_decorate):\n",
    "        # Define a wrapper function that will be returned by the decorator.\n",
    "        # This function will print out the packing material and call the decorated function.\n",
    "        def wrapper_function(*args, **kwargs):\n",
    "            # Print out the packing material and the name of the function being called.\n",
    "            print(f'* Wrapping items from {function_to_decorate.__name__,} with { self.packing_material}')\n",
    "\n",
    "            # Call the decorated function with the given arguments.\n",
    "            function_to_decorate(*args, **kwargs)\n",
    "            \n",
    "            # Print an empty line for better output formatting.\n",
    "            print()\n",
    "\n",
    "        # Return the wrapper function.\n",
    "        return wrapper_function\n",
    "\n",
    "\n",
    "# Use the PackingMaterialDecorator to decorate packing functions for different types of items.\n",
    "@PackingMaterialDecorator('kraft')\n",
    "def pack_books(*book_titles):\n",
    "    print(\"We'll pack books:\", book_titles)\n",
    "\n",
    "\n",
    "@PackingMaterialDecorator('foil')\n",
    "def pack_toys(*toy_names):\n",
    "    print(\"We'll pack toys:\", toy_names)\n",
    "\n",
    "\n",
    "@PackingMaterialDecorator('cardboard')\n",
    "def pack_fruits(*fruit_names):\n",
    "    print(\"We'll pack fruits:\", fruit_names)\n",
    "\n",
    "\n",
    "# Call the decorated packing functions with some sample arguments.\n",
    "pack_books('Alice in Wonderland', 'Winnie the Pooh')\n",
    "pack_toys('doll', 'car')\n",
    "pack_fruits('plum', 'pear')\n"
   ]
  }
 ],
 "metadata": {
  "kernelspec": {
   "display_name": "PCPP-2Zsy0jkT",
   "language": "python",
   "name": "python3"
  },
  "language_info": {
   "codemirror_mode": {
    "name": "ipython",
    "version": 3
   },
   "file_extension": ".py",
   "mimetype": "text/x-python",
   "name": "python",
   "nbconvert_exporter": "python",
   "pygments_lexer": "ipython3",
   "version": "3.10.11"
  },
  "orig_nbformat": 4
 },
 "nbformat": 4,
 "nbformat_minor": 2
}
