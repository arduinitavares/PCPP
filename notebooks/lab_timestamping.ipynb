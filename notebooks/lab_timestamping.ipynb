{
 "cells": [
  {
   "cell_type": "code",
   "execution_count": 1,
   "metadata": {},
   "outputs": [
    {
     "name": "stdout",
     "output_type": "stream",
     "text": [
      "Function execution time:  Sat May 27 09:46:33 2023\n",
      "Result:  9\n"
     ]
    }
   ],
   "source": [
    "# Import the required libraries\n",
    "import time\n",
    "\n",
    "# Define a function that acts as a decorator.\n",
    "# This function is used to measure and print the\n",
    "# time at which the decorated function is executed.\n",
    "def execution_time_decorator(function_to_decorate):\n",
    "    # Inside the decorator function, define a wrapper function\n",
    "    # that takes any number of arguments and keyword arguments.\n",
    "    # This function will call the decorated function and print\n",
    "    # the execution time.\n",
    "    def wrapper_function(*args, **kwargs):\n",
    "        # Get the current time in seconds since the epoch,\n",
    "        # which is a common basis for computer time representation.\n",
    "        current_seconds_since_epoch = time.time()\n",
    "        \n",
    "        # Convert the time in seconds since the epoch to a\n",
    "        # human-readable format and print it.\n",
    "        human_readable_time = time.ctime(current_seconds_since_epoch)\n",
    "        print(\"Function execution time: \", human_readable_time)\n",
    "        \n",
    "        # Call the function being decorated and return its result.\n",
    "        return function_to_decorate(*args, **kwargs)\n",
    "\n",
    "    # Return the wrapper function to complete the decorator.\n",
    "    return wrapper_function\n",
    "\n",
    "# Here we use the decorator defined above to decorate a simple addition function.\n",
    "@execution_time_decorator   \n",
    "def addition_function(a, b):\n",
    "    # This function takes two arguments and returns their sum.\n",
    "    return a + b\n",
    "\n",
    "# Finally, we call the decorated addition function.\n",
    "result = addition_function(4, 5)\n",
    "\n",
    "# The result is printed.\n",
    "print(\"Result: \", result)\n"
   ]
  }
 ],
 "metadata": {
  "kernelspec": {
   "display_name": "PCPP-2Zsy0jkT",
   "language": "python",
   "name": "python3"
  },
  "language_info": {
   "codemirror_mode": {
    "name": "ipython",
    "version": 3
   },
   "file_extension": ".py",
   "mimetype": "text/x-python",
   "name": "python",
   "nbconvert_exporter": "python",
   "pygments_lexer": "ipython3",
   "version": "3.10.11"
  },
  "orig_nbformat": 4
 },
 "nbformat": 4,
 "nbformat_minor": 2
}
