{
 "cells": [
  {
   "cell_type": "code",
   "execution_count": 1,
   "metadata": {},
   "outputs": [],
   "source": [
    "def diagonalDifference(arr):\n",
    "    # Write your code here\n",
    "    mul = 1\n",
    "    mul2 = 1\n",
    "    for i in range(len(arr)):\n",
    "        for j in range(len(arr)):\n",
    "            if i == j:\n",
    "                mul *= arr[i, j]\n",
    "            if i + j == len(arr):\n",
    "                mul2 *= arr[i, j]\n",
    "\n",
    "    return mul2 - mul\n"
   ]
  },
  {
   "cell_type": "code",
   "execution_count": 7,
   "metadata": {},
   "outputs": [
    {
     "data": {
      "text/plain": [
       "[1, 3, 4, 3, 2]"
      ]
     },
     "execution_count": 7,
     "metadata": {},
     "output_type": "execute_result"
    }
   ],
   "source": [
    "strings = ['abcde',\n",
    "'sdaklfj',\n",
    "'asdjf',\n",
    "'na',\n",
    "'basdn',\n",
    "'sdaklfj',\n",
    "'asdjf',\n",
    "'na',\n",
    "'asdjf',\n",
    "'na',\n",
    "'basdn',\n",
    "'sdaklfj',\n",
    "'asdjf']\n",
    "\n",
    "queries = ['abcde', 'sdaklfj', 'asdjf', 'na', 'basdn']\n",
    "\n",
    "def matchingStrings(strings, queries):\n",
    "    counter = {}\n",
    "    # Write your code here\n",
    "    for query in queries:\n",
    "        counter[query] = strings.count(query)\n",
    "    return [value for value in counter.values()]\n",
    "\n",
    "def matchingStrings(strings, queries):\n",
    "    counter = {}\n",
    "    # Write your code here\n",
    "    for string in strings:\n",
    "        if string in counter:\n",
    "            counter[string] += 1\n",
    "        else:\n",
    "            counter[string] = 1\n",
    "            \n",
    "        # prepare the result list\n",
    "        result = []\n",
    "        for query in queries:\n",
    "            result.append(counter.get(query, 0))\n",
    "    return result\n",
    "\n",
    "matchingStrings(strings, queries)"
   ]
  },
  {
   "cell_type": "code",
   "execution_count": 80,
   "metadata": {},
   "outputs": [],
   "source": [
    "arr = [[11, 2, 4], [4, 5, 6], [10, 8, -12]]\n"
   ]
  },
  {
   "cell_type": "code",
   "execution_count": 20,
   "metadata": {},
   "outputs": [
    {
     "data": {
      "text/plain": [
       "'0b00000000000000000000000000001001'"
      ]
     },
     "execution_count": 20,
     "metadata": {},
     "output_type": "execute_result"
    }
   ],
   "source": [
    "number = 9\n",
    "f'0b{number:032b}'"
   ]
  },
  {
   "cell_type": "code",
   "execution_count": 28,
   "metadata": {},
   "outputs": [
    {
     "data": {
      "text/plain": [
       "'11111111111111111111111111110110'"
      ]
     },
     "execution_count": 28,
     "metadata": {},
     "output_type": "execute_result"
    }
   ],
   "source": [
    "number_1 = 0b11111111111111111111111111111111\n",
    "shifted_number = number ^ number_1\n",
    "f'{shifted_number:032b}'"
   ]
  },
  {
   "cell_type": "code",
   "execution_count": 25,
   "metadata": {},
   "outputs": [
    {
     "data": {
      "text/plain": [
       "'ffffffff'"
      ]
     },
     "execution_count": 25,
     "metadata": {},
     "output_type": "execute_result"
    }
   ],
   "source": [
    "f'{number_1:0x}'"
   ]
  },
  {
   "cell_type": "code",
   "execution_count": 68,
   "metadata": {},
   "outputs": [
    {
     "ename": "IndexError",
     "evalue": "list index out of range",
     "output_type": "error",
     "traceback": [
      "\u001b[1;31m---------------------------------------------------------------------------\u001b[0m",
      "\u001b[1;31mIndexError\u001b[0m                                Traceback (most recent call last)",
      "Cell \u001b[1;32mIn[68], line 12\u001b[0m\n\u001b[0;32m      9\u001b[0m \u001b[39mfor\u001b[39;00m _ \u001b[39min\u001b[39;00m \u001b[39mrange\u001b[39m(n):\n\u001b[0;32m     10\u001b[0m     arr\u001b[39m.\u001b[39mappend(\u001b[39mlist\u001b[39m(\u001b[39mmap\u001b[39m(\u001b[39mint\u001b[39m, \u001b[39minput\u001b[39m()\u001b[39m.\u001b[39mrstrip()\u001b[39m.\u001b[39msplit())))\n\u001b[1;32m---> 12\u001b[0m result \u001b[39m=\u001b[39m diagonalDifference(arr)\n\u001b[0;32m     14\u001b[0m fptr\u001b[39m.\u001b[39mwrite(\u001b[39mstr\u001b[39m(result) \u001b[39m+\u001b[39m \u001b[39m'\u001b[39m\u001b[39m\\n\u001b[39;00m\u001b[39m'\u001b[39m)\n\u001b[0;32m     16\u001b[0m fptr\u001b[39m.\u001b[39mclose()\n",
      "Cell \u001b[1;32mIn[61], line 12\u001b[0m, in \u001b[0;36mdiagonalDifference\u001b[1;34m(arr)\u001b[0m\n\u001b[0;32m     10\u001b[0m             mul \u001b[39m+\u001b[39m\u001b[39m=\u001b[39m arr[i\u001b[39m+\u001b[39m\u001b[39m1\u001b[39m][j]\n\u001b[0;32m     11\u001b[0m         \u001b[39mif\u001b[39;00m i \u001b[39m+\u001b[39m j \u001b[39m==\u001b[39m n\u001b[39m-\u001b[39m\u001b[39m1\u001b[39m:\n\u001b[1;32m---> 12\u001b[0m             mul2 \u001b[39m+\u001b[39m\u001b[39m=\u001b[39m arr[i\u001b[39m+\u001b[39;49m\u001b[39m1\u001b[39;49m][j]\n\u001b[0;32m     14\u001b[0m \u001b[39mreturn\u001b[39;00m \u001b[39mabs\u001b[39m(mul \u001b[39m-\u001b[39m mul2)\n",
      "\u001b[1;31mIndexError\u001b[0m: list index out of range"
     ]
    }
   ],
   "source": [
    "import os \n",
    "\n",
    "fptr = open(f'input00.txt', 'w')\n",
    "\n",
    "n = int(input().strip())\n",
    "\n",
    "arr = []\n",
    "\n",
    "for _ in range(n):\n",
    "    arr.append(list(map(int, input().rstrip().split())))\n",
    "\n",
    "result = diagonalDifference(arr)\n",
    "\n",
    "fptr.write(str(result) + '\\n')\n",
    "\n",
    "fptr.close()"
   ]
  },
  {
   "cell_type": "code",
   "execution_count": null,
   "metadata": {},
   "outputs": [],
   "source": []
  }
 ],
 "metadata": {
  "kernelspec": {
   "display_name": "PCPP-ZcPSUtpb",
   "language": "python",
   "name": "python3"
  },
  "language_info": {
   "codemirror_mode": {
    "name": "ipython",
    "version": 3
   },
   "file_extension": ".py",
   "mimetype": "text/x-python",
   "name": "python",
   "nbconvert_exporter": "python",
   "pygments_lexer": "ipython3",
   "version": "3.10.3"
  },
  "orig_nbformat": 4
 },
 "nbformat": 4,
 "nbformat_minor": 2
}
