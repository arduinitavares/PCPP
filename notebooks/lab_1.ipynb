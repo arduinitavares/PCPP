{
 "cells": [
  {
   "cell_type": "code",
   "execution_count": 14,
   "metadata": {},
   "outputs": [
    {
     "name": "stdout",
     "output_type": "stream",
     "text": [
      "max resolution: 500, serial number: S1\n",
      "max resolution: 400, serial number: P1\n"
     ]
    }
   ],
   "source": [
    "import abc\n",
    "\n",
    "class AbstractDevice(abc.ABC):\n",
    "    def __init__(self, max_resolution):\n",
    "        self.max_resolution = max_resolution\n",
    "        self.serial_number = self.generate_serial_number()\n",
    "\n",
    "    @abc.abstractmethod\n",
    "    def generate_serial_number(self):\n",
    "        pass\n",
    "\n",
    "class Scanner(AbstractDevice):\n",
    "    number = 0\n",
    "\n",
    "    def generate_serial_number(self):\n",
    "        Scanner.number += 1\n",
    "        return f\"S{Scanner.number}\"\n",
    "\n",
    "    def scan_document(self):\n",
    "        return \"The document has been scanned\"\n",
    "\n",
    "    def get_scanner_status(self):\n",
    "        return f'max resolution: {self.max_resolution}, serial number: {self.serial_number}'\n",
    "\n",
    "\n",
    "class Printer(AbstractDevice):\n",
    "    number = 0\n",
    "\n",
    "    def generate_serial_number(self):\n",
    "        Printer.number += 1\n",
    "        return f\"P{Printer.number}\"\n",
    "\n",
    "    def print_document(self):\n",
    "        return \"The document has been printed\"\n",
    "\n",
    "    def get_printer_status(self):\n",
    "        return f'max resolution: {self.max_resolution}, serial number: {self.serial_number}'\n",
    "\n",
    "\n",
    "class MFD1:\n",
    "    def __init__(self):\n",
    "        self.scanner = Scanner(max_resolution=500)\n",
    "        self.printer = Printer(max_resolution=400)\n",
    "\n",
    "    def scan_document(self):\n",
    "        return self.scanner.scan_document()\n",
    "\n",
    "    def print_document(self):\n",
    "        return self.printer.print_document()\n",
    "\n",
    "    def get_scanner_status(self):\n",
    "        return self.scanner.get_scanner_status()\n",
    "\n",
    "    def get_printer_status(self):\n",
    "        return self.printer.get_printer_status()\n",
    "\n",
    "\n",
    "mfd1 = MFD1()\n",
    "print(mfd1.get_scanner_status(), \n",
    "      mfd1.get_printer_status(),\n",
    "     sep='\\n')\n"
   ]
  }
 ],
 "metadata": {
  "kernelspec": {
   "display_name": "PCPP-ZcPSUtpb",
   "language": "python",
   "name": "python3"
  },
  "language_info": {
   "codemirror_mode": {
    "name": "ipython",
    "version": 3
   },
   "file_extension": ".py",
   "mimetype": "text/x-python",
   "name": "python",
   "nbconvert_exporter": "python",
   "pygments_lexer": "ipython3",
   "version": "3.10.3"
  },
  "orig_nbformat": 4
 },
 "nbformat": 4,
 "nbformat_minor": 2
}
