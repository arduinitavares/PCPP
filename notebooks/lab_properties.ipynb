{
 "cells": [
  {
   "attachments": {},
   "cell_type": "markdown",
   "metadata": {},
   "source": [
    "# Objectives\n",
    "* improving the student's skills in operating with the getter, setter, and deleter methods;\n",
    "* improving the student's skills in creating their own exceptions"
   ]
  },
  {
   "attachments": {},
   "cell_type": "markdown",
   "metadata": {},
   "source": [
    "# Scenario\n",
    "* Implement a class representing an account exception,\n",
    "* Implement a class representing a single bank account,\n",
    "* This class should control access to the account number and account balance attributes by implementing the properties:\n",
    "    * it should be possible to read the account number only, not change it. In case someone tries to change the account number, raise an alarm by raising an exception;\n",
    "    * it should not be possible to set a negative balance. In case someone tries to set a negative balance, raise an alarm by raising an exception;\n",
    "    * when the bank operation (deposit or withdrawal) is above 100.000, then additional message should be printed on the standard output (screen) for auditing purposes;\n",
    "    * it should not be possible to delete an account as long as the balance is not zero;"
   ]
  },
  {
   "cell_type": "code",
   "execution_count": 6,
   "metadata": {},
   "outputs": [],
   "source": [
    "import random\n",
    "\n",
    "class AccountError(Exception):\n",
    "    pass\n",
    "\n",
    "class BankAccount():\n",
    "    def __init__(self):\n",
    "        self.__account_number = self.__account_number_generator()\n",
    "        self.__balance = 0\n",
    "    \n",
    "    def __account_number_generator(self, acc_num_size=10):\n",
    "        account_number = [str(random.randint(0, 9)) for  i in range(acc_num_size)]\n",
    "        account_number = ''.join(account_number)\n",
    "        return account_number\n",
    "    \n",
    "    def __operation_checker(self, value):\n",
    "        if value > 100000:\n",
    "            print('WARNING: Value above U$100000,00.')\n",
    "\n",
    "    @property\n",
    "    def account_number(self):\n",
    "        return self.__account_number\n",
    "    \n",
    "    @account_number.setter\n",
    "    def account_number(self, new_number):\n",
    "        raise AccountError('It is not possible to change the account number.')\n",
    "    \n",
    "    @account_number.deleter\n",
    "    def account_number(self):\n",
    "        if self.__balance == 0:\n",
    "            del self.__account_number\n",
    "            print('Your account has been deleted.')\n",
    "        else:\n",
    "            raise AccountError('You should have balance zero to be able to delete your account.')\n",
    "\n",
    "    @property\n",
    "    def balance(self):\n",
    "        return self.__balance\n",
    "\n",
    "    def deposit(self, amount):\n",
    "        if amount >= 0:\n",
    "            self.__balance += amount\n",
    "            self.__operation_checker(amount)\n",
    "        else:\n",
    "            raise AccountError('You cannot deposit a negative amount')\n",
    "\n",
    "    def withdraw(self, amount):\n",
    "        if amount > self.__balance:\n",
    "            raise AccountError('Insufficient balance')\n",
    "        elif amount >= 0:\n",
    "            self.__balance -= amount\n",
    "            self.__operation_checker(amount)\n",
    "        else:\n",
    "            raise AccountError('You cannot withdraw a negative amount')\n"
   ]
  },
  {
   "cell_type": "code",
   "execution_count": 7,
   "metadata": {},
   "outputs": [],
   "source": [
    "test = BankAccount()"
   ]
  },
  {
   "cell_type": "code",
   "execution_count": 8,
   "metadata": {},
   "outputs": [
    {
     "data": {
      "text/plain": [
       "'7742373619'"
      ]
     },
     "execution_count": 8,
     "metadata": {},
     "output_type": "execute_result"
    }
   ],
   "source": [
    "test.account_number"
   ]
  },
  {
   "cell_type": "code",
   "execution_count": 9,
   "metadata": {},
   "outputs": [
    {
     "ename": "AccountError",
     "evalue": "It is not possible to change the account number.",
     "output_type": "error",
     "traceback": [
      "\u001b[0;31m---------------------------------------------------------------------------\u001b[0m",
      "\u001b[0;31mAccountError\u001b[0m                              Traceback (most recent call last)",
      "Cell \u001b[0;32mIn[9], line 1\u001b[0m\n\u001b[0;32m----> 1\u001b[0m test\u001b[39m.\u001b[39;49maccount_number \u001b[39m=\u001b[39m \u001b[39m'\u001b[39m\u001b[39m6464464\u001b[39m\u001b[39m'\u001b[39m\n",
      "Cell \u001b[0;32mIn[6], line 26\u001b[0m, in \u001b[0;36mBankAccount.account_number\u001b[0;34m(self, new_number)\u001b[0m\n\u001b[1;32m     24\u001b[0m \u001b[39m@account_number\u001b[39m\u001b[39m.\u001b[39msetter\n\u001b[1;32m     25\u001b[0m \u001b[39mdef\u001b[39;00m \u001b[39maccount_number\u001b[39m(\u001b[39mself\u001b[39m, new_number):\n\u001b[0;32m---> 26\u001b[0m     \u001b[39mraise\u001b[39;00m AccountError(\u001b[39m'\u001b[39m\u001b[39mIt is not possible to change the account number.\u001b[39m\u001b[39m'\u001b[39m)\n",
      "\u001b[0;31mAccountError\u001b[0m: It is not possible to change the account number."
     ]
    }
   ],
   "source": [
    "test.account_number = '6464464'"
   ]
  },
  {
   "cell_type": "code",
   "execution_count": 11,
   "metadata": {},
   "outputs": [
    {
     "name": "stdout",
     "output_type": "stream",
     "text": [
      "balance:1000\n"
     ]
    }
   ],
   "source": [
    "test.deposit(1000)\n",
    "\n",
    "print(f'balance:{test.balance}')"
   ]
  },
  {
   "cell_type": "code",
   "execution_count": 12,
   "metadata": {},
   "outputs": [
    {
     "name": "stdout",
     "output_type": "stream",
     "text": [
      "balance:0\n"
     ]
    }
   ],
   "source": [
    "test.withdraw(1000)\n",
    "\n",
    "print(f'balance:{test.balance}')"
   ]
  },
  {
   "cell_type": "code",
   "execution_count": 13,
   "metadata": {},
   "outputs": [
    {
     "ename": "AccountError",
     "evalue": "Insufficient balance",
     "output_type": "error",
     "traceback": [
      "\u001b[0;31m---------------------------------------------------------------------------\u001b[0m",
      "\u001b[0;31mAccountError\u001b[0m                              Traceback (most recent call last)",
      "Cell \u001b[0;32mIn[13], line 1\u001b[0m\n\u001b[0;32m----> 1\u001b[0m test\u001b[39m.\u001b[39;49mwithdraw(\u001b[39m200\u001b[39;49m)\n\u001b[1;32m      3\u001b[0m \u001b[39mprint\u001b[39m(\u001b[39mf\u001b[39m\u001b[39m'\u001b[39m\u001b[39mbalance:\u001b[39m\u001b[39m{\u001b[39;00mtest\u001b[39m.\u001b[39mbalance\u001b[39m}\u001b[39;00m\u001b[39m'\u001b[39m)\n",
      "Cell \u001b[0;32mIn[6], line 49\u001b[0m, in \u001b[0;36mBankAccount.withdraw\u001b[0;34m(self, amount)\u001b[0m\n\u001b[1;32m     47\u001b[0m \u001b[39mdef\u001b[39;00m \u001b[39mwithdraw\u001b[39m(\u001b[39mself\u001b[39m, amount):\n\u001b[1;32m     48\u001b[0m     \u001b[39mif\u001b[39;00m amount \u001b[39m>\u001b[39m \u001b[39mself\u001b[39m\u001b[39m.\u001b[39m__balance:\n\u001b[0;32m---> 49\u001b[0m         \u001b[39mraise\u001b[39;00m AccountError(\u001b[39m'\u001b[39m\u001b[39mInsufficient balance\u001b[39m\u001b[39m'\u001b[39m)\n\u001b[1;32m     50\u001b[0m     \u001b[39melif\u001b[39;00m amount \u001b[39m>\u001b[39m\u001b[39m=\u001b[39m \u001b[39m0\u001b[39m:\n\u001b[1;32m     51\u001b[0m         \u001b[39mself\u001b[39m\u001b[39m.\u001b[39m__balance \u001b[39m-\u001b[39m\u001b[39m=\u001b[39m amount\n",
      "\u001b[0;31mAccountError\u001b[0m: Insufficient balance"
     ]
    }
   ],
   "source": [
    "test.withdraw(200)\n",
    "\n",
    "print(f'balance:{test.balance}')"
   ]
  },
  {
   "cell_type": "code",
   "execution_count": 15,
   "metadata": {},
   "outputs": [
    {
     "name": "stdout",
     "output_type": "stream",
     "text": [
      "WARNING: Value above U$100000,00.\n"
     ]
    }
   ],
   "source": [
    "test.deposit(100001)"
   ]
  },
  {
   "cell_type": "code",
   "execution_count": 16,
   "metadata": {},
   "outputs": [
    {
     "ename": "AccountError",
     "evalue": "You should have balance zero to be able to delete your account.",
     "output_type": "error",
     "traceback": [
      "\u001b[0;31m---------------------------------------------------------------------------\u001b[0m",
      "\u001b[0;31mAccountError\u001b[0m                              Traceback (most recent call last)",
      "Cell \u001b[0;32mIn[16], line 1\u001b[0m\n\u001b[0;32m----> 1\u001b[0m \u001b[39mdel\u001b[39;00m test\u001b[39m.\u001b[39maccount_number\n",
      "Cell \u001b[0;32mIn[6], line 34\u001b[0m, in \u001b[0;36mBankAccount.account_number\u001b[0;34m(self)\u001b[0m\n\u001b[1;32m     32\u001b[0m     \u001b[39mprint\u001b[39m(\u001b[39m'\u001b[39m\u001b[39mYour account has been deleted.\u001b[39m\u001b[39m'\u001b[39m)\n\u001b[1;32m     33\u001b[0m \u001b[39melse\u001b[39;00m:\n\u001b[0;32m---> 34\u001b[0m     \u001b[39mraise\u001b[39;00m AccountError(\u001b[39m'\u001b[39m\u001b[39mYou should have balance zero to be able to delete your account.\u001b[39m\u001b[39m'\u001b[39m)\n",
      "\u001b[0;31mAccountError\u001b[0m: You should have balance zero to be able to delete your account."
     ]
    }
   ],
   "source": [
    "del test.account_number"
   ]
  },
  {
   "cell_type": "code",
   "execution_count": 18,
   "metadata": {},
   "outputs": [
    {
     "name": "stdout",
     "output_type": "stream",
     "text": [
      "Your account has been deleted.\n"
     ]
    }
   ],
   "source": [
    "test.withdraw(test.balance)\n",
    "del test.account_number"
   ]
  },
  {
   "attachments": {},
   "cell_type": "markdown",
   "metadata": {},
   "source": [
    "* The balance: The balance property in the previous implementation was acting as a direct setter for the balance, which means that a user could manually set the balance to any amount, which wouldn't really reflect a real-world bank account scenario. Instead, I want to implement deposit and withdraw methods, which would increase and decrease the balance, respectively, and then keep the balance property as read-only."
   ]
  }
 ],
 "metadata": {
  "kernelspec": {
   "display_name": "PCPP-2Zsy0jkT",
   "language": "python",
   "name": "python3"
  },
  "language_info": {
   "codemirror_mode": {
    "name": "ipython",
    "version": 3
   },
   "file_extension": ".py",
   "mimetype": "text/x-python",
   "name": "python",
   "nbconvert_exporter": "python",
   "pygments_lexer": "ipython3",
   "version": "3.10.11"
  },
  "orig_nbformat": 4
 },
 "nbformat": 4,
 "nbformat_minor": 2
}
