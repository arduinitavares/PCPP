{
 "cells": [
  {
   "cell_type": "markdown",
   "metadata": {},
   "source": [
    "### Abstract class"
   ]
  },
  {
   "cell_type": "code",
   "execution_count": 1,
   "metadata": {},
   "outputs": [],
   "source": [
    "import abc\n",
    "\n",
    "class BluePrint(abc.ABC):\n",
    "    @abc.abstractmethod\n",
    "    def hello(self):\n",
    "        pass\n",
    "\n",
    "    def bye(self):\n",
    "        print('Bye')\n",
    "\n",
    "class GreenField(BluePrint):\n",
    "    def hello(self):\n",
    "        print('Welcome to Green Field')\n",
    "    \n",
    "    def bye(self):\n",
    "        print('Bye from Green Field')\n",
    "    \n",
    "    def call_super_bye(self):\n",
    "        super().bye()\n",
    "\n",
    "\n"
   ]
  },
  {
   "cell_type": "code",
   "execution_count": 2,
   "metadata": {},
   "outputs": [
    {
     "name": "stdout",
     "output_type": "stream",
     "text": [
      "Welcome to Green Field\n",
      "Bye from Green Field\n"
     ]
    }
   ],
   "source": [
    "gf = GreenField()\n",
    "gf.hello()\n",
    "gf.bye()"
   ]
  },
  {
   "cell_type": "markdown",
   "metadata": {},
   "source": [
    "### Accessing superclass methods"
   ]
  },
  {
   "cell_type": "code",
   "execution_count": 3,
   "metadata": {},
   "outputs": [
    {
     "name": "stdout",
     "output_type": "stream",
     "text": [
      "Bye\n"
     ]
    }
   ],
   "source": [
    "gf.call_super_bye()"
   ]
  },
  {
   "cell_type": "markdown",
   "metadata": {},
   "source": [
    "### Saving and reading file using shelve"
   ]
  },
  {
   "cell_type": "code",
   "execution_count": 4,
   "metadata": {},
   "outputs": [],
   "source": [
    "import shelve\n",
    "\n",
    "shelve_name = 'first_shelve_name.shlv'\n",
    "my_shelve = shelve.open(shelve_name, flag='c')\n",
    "my_shelve['EUR'] = {'code':'Euro', 'symbol': '€'}\n",
    "my_shelve['GBP'] = {'code':'Pounds sterling', 'symbol': '£'}\n",
    "my_shelve['USD'] = {'code':'US dollar', 'symbol': '$'}\n",
    "my_shelve['JPY'] = {'code':'Japanese yen', 'symbol': '¥'}\n",
    "my_shelve.close()"
   ]
  },
  {
   "cell_type": "code",
   "execution_count": 5,
   "metadata": {},
   "outputs": [
    {
     "name": "stdout",
     "output_type": "stream",
     "text": [
      "{'code': 'US dollar', 'symbol': '$'}\n"
     ]
    }
   ],
   "source": [
    "new_shelve = shelve.open(shelve_name)\n",
    "print(new_shelve['USD'])\n",
    "new_shelve.close()"
   ]
  },
  {
   "cell_type": "markdown",
   "metadata": {},
   "source": [
    "### forwarding arguments to other functions"
   ]
  },
  {
   "cell_type": "code",
   "execution_count": 7,
   "metadata": {},
   "outputs": [
    {
     "name": "stdout",
     "output_type": "stream",
     "text": [
      "my_args: (40, 60, 30)\n",
      "my_kwargs: {'argument1': 50, 'argument2': 66}\n"
     ]
    }
   ],
   "source": [
    "def combiner(a, b, *args, **kwargs):\n",
    "    super_combiner(*args, **kwargs)\n",
    "\n",
    "def super_combiner(*my_args, **my_kwargs):\n",
    "    print(f'my_args: {my_args}')\n",
    "    print(f'my_kwargs: {my_kwargs}')\n",
    "\n",
    "combiner(10, 20, 40, 60, 30, argument1=50, argument2=66)"
   ]
  },
  {
   "cell_type": "code",
   "execution_count": 3,
   "metadata": {},
   "outputs": [
    {
     "name": "stdout",
     "output_type": "stream",
     "text": [
      "[3, 2]\n"
     ]
    }
   ],
   "source": [
    "class OwnList(list):\n",
    "    def __setitem__(self, index, value):\n",
    "        list.append(self, value)\n",
    "    \n",
    "    def append(self, value):\n",
    "        list.append(self, value)\n",
    "    \n",
    "own_list = OwnList()\n",
    "own_list.append(3)\n",
    "own_list.append(2)\n",
    "print(own_list)"
   ]
  }
 ],
 "metadata": {
  "kernelspec": {
   "display_name": "PCPP-ZcPSUtpb",
   "language": "python",
   "name": "python3"
  },
  "language_info": {
   "codemirror_mode": {
    "name": "ipython",
    "version": 3
   },
   "file_extension": ".py",
   "mimetype": "text/x-python",
   "name": "python",
   "nbconvert_exporter": "python",
   "pygments_lexer": "ipython3",
   "version": "3.10.3"
  }
 },
 "nbformat": 4,
 "nbformat_minor": 2
}
