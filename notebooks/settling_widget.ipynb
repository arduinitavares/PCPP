{
 "cells": [
  {
   "cell_type": "code",
   "execution_count": 1,
   "metadata": {},
   "outputs": [],
   "source": [
    "import tkinter as tk"
   ]
  },
  {
   "cell_type": "code",
   "execution_count": 50,
   "metadata": {},
   "outputs": [],
   "source": [
    "window = tk.Tk()\n",
    "\n",
    "button_1 = tk.Button(window, text=\"Button #1\")\n",
    "button_2 = tk.Button(window, text=\"Button #2\")\n",
    "button_3 = tk.Button(window, text=\"Button #3\")\n",
    "\n",
    "# button_1.place(x=10, y=10, width=150, height=40)\n",
    "# button_2.place(x=20, y=40)\n",
    "# button_3.place(x=30, y=70)\n",
    "\n",
    "# button_1.grid(row=0, column=0)\n",
    "# button_2.grid(row=1, column=1)\n",
    "# button_3.grid(row=1, column=0, rowspan=3)\n",
    "# button_3.grid(row=2, column=0)\n",
    "\n",
    "button_1.pack(side=tk.RIGHT, fill=tk.Y)\n",
    "button_2.pack()\n",
    "button_3.pack()\n",
    "\n",
    "\n",
    "window.mainloop()"
   ]
  },
  {
   "cell_type": "code",
   "execution_count": 1,
   "metadata": {},
   "outputs": [],
   "source": [
    "import tkinter as tk\n",
    "\n",
    "def blink():\n",
    "    global is_white\n",
    "    if is_white:\n",
    "        color = 'black'\n",
    "    else:\n",
    "        color = 'white'\n",
    "    \n",
    "    is_white = not is_white\n",
    "    frame.config(bg=color)\n",
    "    frame.after(50, blink)\n",
    "\n",
    "\n",
    "is_white = True\n",
    "window = tk.Tk()\n",
    "frame = tk.Frame(window, width=200, height=100, bg='white')\n",
    "frame.after(500, blink)\n",
    "frame.pack()\n",
    "window.mainloop()\n"
   ]
  },
  {
   "cell_type": "code",
   "execution_count": 1,
   "metadata": {},
   "outputs": [],
   "source": [
    "import tkinter as tk\n",
    "\n",
    "\n",
    "def suicide():\n",
    "    frame.destroy()\n",
    "\n",
    "window = tk.Tk()\n",
    "frame = tk.Frame(window, width=200, height=100, bg='green')\n",
    "button = tk.Button(frame, text=\"I'm a frame's child\")\n",
    "button.place(x=10, y=10)\n",
    "frame.after(5000, suicide)\n",
    "frame.pack()\n",
    "window.mainloop()"
   ]
  },
  {
   "cell_type": "code",
   "execution_count": 2,
   "metadata": {},
   "outputs": [],
   "source": [
    "import tkinter as tk\n",
    "\n",
    "def flip_focus():\n",
    "    if window.focus_get() is button_1:\n",
    "        button_2.focus_set()\n",
    "    else:\n",
    "        button_1.focus_set()\n",
    "    window.after(1000, flip_focus)\n",
    "\n",
    "window = tk.Tk()\n",
    "\n",
    "button_1 = tk.Button(window, text=\"First\")\n",
    "button_1.pack()\n",
    "\n",
    "button_2 = tk.Button(window, text=\"Second\")\n",
    "button_2.pack()\n",
    "\n",
    "window.after(1000, flip_focus)\n",
    "window.mainloop()\n"
   ]
  }
 ],
 "metadata": {
  "kernelspec": {
   "display_name": "PCPP-ZcPSUtpb",
   "language": "python",
   "name": "python3"
  },
  "language_info": {
   "codemirror_mode": {
    "name": "ipython",
    "version": 3
   },
   "file_extension": ".py",
   "mimetype": "text/x-python",
   "name": "python",
   "nbconvert_exporter": "python",
   "pygments_lexer": "ipython3",
   "version": "3.10.3"
  }
 },
 "nbformat": 4,
 "nbformat_minor": 2
}
