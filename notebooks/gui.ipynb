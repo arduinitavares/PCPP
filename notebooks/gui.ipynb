{
 "cells": [
  {
   "cell_type": "code",
   "execution_count": 2,
   "metadata": {},
   "outputs": [],
   "source": [
    "import tkinter\n",
    "from tkinter import messagebox\n",
    "\n",
    "\n",
    "def Click():\n",
    "    replay = messagebox.askquestion(\"Quit?\", \"Are you sure you want to quit?\")\n",
    "    if replay == 'yes':\n",
    "        skylight.destroy()\n",
    "skylight = tkinter.Tk()\n",
    "skylight.title('Skylight')\n",
    "button = tkinter.Button(skylight, text='Bye', command=Click)\n",
    "button.place(x=10, y=10)\n",
    "skylight.mainloop()"
   ]
  }
 ],
 "metadata": {
  "kernelspec": {
   "display_name": "PCPP-ZcPSUtpb",
   "language": "python",
   "name": "python3"
  },
  "language_info": {
   "codemirror_mode": {
    "name": "ipython",
    "version": 3
   },
   "file_extension": ".py",
   "mimetype": "text/x-python",
   "name": "python",
   "nbconvert_exporter": "python",
   "pygments_lexer": "ipython3",
   "version": "3.10.3"
  }
 },
 "nbformat": 4,
 "nbformat_minor": 2
}
