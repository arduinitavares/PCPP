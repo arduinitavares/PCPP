{
 "cells": [
  {
   "cell_type": "markdown",
   "metadata": {},
   "source": [
    "# Estimated time\n",
    "20-30 minutes\n",
    "\n",
    "# Level of difficulty\n",
    "Easy\n",
    "\n",
    "# Objectives\n",
    "Learn practical skills related to:\n",
    "\n",
    "* using screen coordinates,\n",
    "* managing widgets with the place manager,\n",
    "* binding events using the bind() method.\n",
    "\n",
    "#Scenario\n",
    "Write a simple game - an infinite game which humans cannot win. Here are the rules:\n",
    "\n",
    "* the game goes on between TkInter and the user (probably you)\n",
    "* TkInter opens a 500x500 pixel window and places a button saying \"Catch me!\" in the top-left corner of the window;\n",
    "* if the user moves the mouse cursor over the button, the button immediately jumps to another location inside the window; you have to assure that the new location is distant enough to prevent the user from making an instant click,\n",
    "* the button must not cross the window's boundaries during the jump!\n",
    "Here is a sample picture for your reference:\n",
    "\n",
    "Catch me if you can - reference\n",
    "\n",
    "\n",
    "Use the place() method to move the button, and the bind() method to assign your own callback."
   ]
  },
  {
   "cell_type": "code",
   "execution_count": 1,
   "metadata": {},
   "outputs": [],
   "source": [
    "import tkinter as tk\n",
    "import random"
   ]
  },
  {
   "cell_type": "code",
   "execution_count": 3,
   "metadata": {},
   "outputs": [
    {
     "data": {
      "text/plain": [
       "489"
      ]
     },
     "execution_count": 3,
     "metadata": {},
     "output_type": "execute_result"
    }
   ],
   "source": [
    "random.seed(2)"
   ]
  },
  {
   "cell_type": "code",
   "execution_count": 7,
   "metadata": {},
   "outputs": [],
   "source": [
    "window = tk.Tk()\n",
    "\n",
    "window.geometry(\"500x500\")\n",
    "\n",
    "def catch_me(event):\n",
    "    # Get window dimensions\n",
    "    window_width = window.winfo_width()\n",
    "    window_height = window.winfo_height()\n",
    "\n",
    "    # Get the button dimensions\n",
    "    catch_me_button_width = catch_me_button.winfo_width()\n",
    "    catch_me_button_height = catch_me_button.winfo_height()\n",
    "\n",
    "    # Calculate maximum x and y coordinates for the button\n",
    "    max_x = window_width - catch_me_button_width\n",
    "    max_y = window_height - catch_me_button_height\n",
    "\n",
    "    # Generate a random x and y coordinate for the button\n",
    "    new_x = random.randrange(100, max_x)\n",
    "    new_y = random.randrange(100, max_y)\n",
    "    catch_me_button.place(x=new_x, y=new_y)\n",
    "\n",
    "\n",
    "catch_me_button = tk.Button(text=\"Catch me!\", command=catch_me)\n",
    "catch_me_button.place(x=200, y=200)\n",
    "catch_me_button.bind(\"<Enter>\", catch_me)\n",
    "\n",
    "\n",
    "window.mainloop()\n"
   ]
  },
  {
   "cell_type": "code",
   "execution_count": null,
   "metadata": {},
   "outputs": [],
   "source": []
  }
 ],
 "metadata": {
  "kernelspec": {
   "display_name": "pcpp-Nd4K_g_d-py3.12",
   "language": "python",
   "name": "python3"
  },
  "language_info": {
   "codemirror_mode": {
    "name": "ipython",
    "version": 3
   },
   "file_extension": ".py",
   "mimetype": "text/x-python",
   "name": "python",
   "nbconvert_exporter": "python",
   "pygments_lexer": "ipython3",
   "version": "3.12.0"
  }
 },
 "nbformat": 4,
 "nbformat_minor": 2
}
